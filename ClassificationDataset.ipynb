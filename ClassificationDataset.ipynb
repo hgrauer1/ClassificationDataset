{
  "nbformat": 4,
  "nbformat_minor": 0,
  "metadata": {
    "colab": {
      "provenance": [],
      "authorship_tag": "ABX9TyMUe6hxxOcDs8fC8GGJtejO",
      "include_colab_link": true
    },
    "kernelspec": {
      "name": "python3",
      "display_name": "Python 3"
    },
    "language_info": {
      "name": "python"
    }
  },
  "cells": [
    {
      "cell_type": "markdown",
      "metadata": {
        "id": "view-in-github",
        "colab_type": "text"
      },
      "source": [
        "<a href=\"https://colab.research.google.com/github/hgrauer1/ClassificationDataset/blob/main/ClassificationDataset.ipynb\" target=\"_parent\"><img src=\"https://colab.research.google.com/assets/colab-badge.svg\" alt=\"Open In Colab\"/></a>"
      ]
    },
    {
      "cell_type": "code",
      "execution_count": 1,
      "metadata": {
        "id": "LcSDIbPPh9b7"
      },
      "outputs": [],
      "source": [
        "# First, import necessary libraries\n",
        "import os\n",
        "import csv\n",
        "import urllib\n",
        "import requests\n",
        "from PIL import Image\n",
        "import pandas as pd\n",
        "from io import BytesIO"
      ]
    },
    {
      "cell_type": "code",
      "source": [
        "# Clone the github repo containing images\n",
        "!git clone https://github.com/hgrauer1/DeepEnsemble_FasterRCNN"
      ],
      "metadata": {
        "colab": {
          "base_uri": "https://localhost:8080/"
        },
        "id": "7gT_GTA9lDxO",
        "outputId": "ecab9680-6635-450f-9efa-6a14e6a33538"
      },
      "execution_count": 2,
      "outputs": [
        {
          "output_type": "stream",
          "name": "stdout",
          "text": [
            "Cloning into 'DeepEnsemble_FasterRCNN'...\n",
            "remote: Enumerating objects: 915, done.\u001b[K\n",
            "remote: Counting objects: 100% (141/141), done.\u001b[K\n",
            "remote: Compressing objects: 100% (104/104), done.\u001b[K\n",
            "remote: Total 915 (delta 35), reused 137 (delta 34), pack-reused 774\u001b[K\n",
            "Receiving objects: 100% (915/915), 859.48 MiB | 33.69 MiB/s, done.\n",
            "Resolving deltas: 100% (492/492), done.\n",
            "Updating files: 100% (1245/1245), done.\n"
          ]
        }
      ]
    },
    {
      "cell_type": "code",
      "source": [
        "# Define a function to read csv\n",
        "def read_csv(file_path):\n",
        "    with open(file_path, 'r') as f:\n",
        "        reader = csv.DictReader(f)\n",
        "        rows = list(reader)\n",
        "    return rows\n"
      ],
      "metadata": {
        "id": "D-mTaulHlFQl"
      },
      "execution_count": 3,
      "outputs": []
    },
    {
      "cell_type": "code",
      "source": [
        "# Read the csv file\n",
        "rows = read_csv('DeepEnsemble_FasterRCNN/annotations_hand.csv')\n",
        "\n",
        "# Create a new folder for cropped images\n",
        "os.makedirs('images_cropped', exist_ok=True)"
      ],
      "metadata": {
        "id": "ICX-CCKhlH2l"
      },
      "execution_count": 4,
      "outputs": []
    },
    {
      "cell_type": "code",
      "source": [
        "# Create a new csv file\n",
        "with open('new_file.csv', 'w', newline='') as file:\n",
        "    writer = csv.writer(file)\n",
        "    writer.writerow([\"filename\", \"class\"])\n",
        "\n",
        "    # Loop over the rows in the csv file\n",
        "    for i, row in enumerate(rows):\n",
        "        # Open the image file\n",
        "        img = Image.open(os.path.join('DeepEnsemble_FasterRCNN/images_300_sim', row['filename']))\n",
        "        # Crop the image\n",
        "        cropped_img = img.crop((float(row['xmin']), float(row['ymin']), float(row['xmax']), float(row['ymax'])))\n",
        "        # Save the cropped image\n",
        "        new_filename = f\"{row['class']}_{i}.png\"\n",
        "        cropped_img.save(os.path.join('images_cropped', new_filename))\n",
        "        # Write the new filename and class into the new csv file\n",
        "        writer.writerow([new_filename, row['class']])"
      ],
      "metadata": {
        "id": "6BDMVEoxlkKa"
      },
      "execution_count": 5,
      "outputs": []
    }
  ]
}